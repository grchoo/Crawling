{
 "cells": [
  {
   "cell_type": "markdown",
   "metadata": {},
   "source": [
    "<h3>1. 쿠팡의 주문 목록 리스트를 크롤링</h3>"
   ]
  },
  {
   "cell_type": "code",
   "execution_count": 13,
   "metadata": {},
   "outputs": [
    {
     "name": "stdout",
     "output_type": "stream",
     "text": [
      "Requirement already satisfied: selenium in c:\\users\\hoosp\\anaconda3\\lib\\site-packages (4.25.0)\n",
      "Requirement already satisfied: websocket-client~=1.8 in c:\\users\\hoosp\\anaconda3\\lib\\site-packages (from selenium) (1.8.0)\n",
      "Requirement already satisfied: typing_extensions~=4.9 in c:\\users\\hoosp\\anaconda3\\lib\\site-packages (from selenium) (4.12.2)\n",
      "Requirement already satisfied: trio~=0.17 in c:\\users\\hoosp\\anaconda3\\lib\\site-packages (from selenium) (0.26.2)\n",
      "Requirement already satisfied: urllib3[socks]<3,>=1.26 in c:\\users\\hoosp\\anaconda3\\lib\\site-packages (from selenium) (1.26.9)\n",
      "Requirement already satisfied: certifi>=2021.10.8 in c:\\users\\hoosp\\anaconda3\\lib\\site-packages (from selenium) (2021.10.8)\n",
      "Requirement already satisfied: trio-websocket~=0.9 in c:\\users\\hoosp\\anaconda3\\lib\\site-packages (from selenium) (0.11.1)\n",
      "Requirement already satisfied: sniffio>=1.3.0 in c:\\users\\hoosp\\anaconda3\\lib\\site-packages (from trio~=0.17->selenium) (1.3.1)\n",
      "Requirement already satisfied: exceptiongroup in c:\\users\\hoosp\\anaconda3\\lib\\site-packages (from trio~=0.17->selenium) (1.2.2)\n",
      "Requirement already satisfied: idna in c:\\users\\hoosp\\anaconda3\\lib\\site-packages (from trio~=0.17->selenium) (3.3)\n",
      "Requirement already satisfied: cffi>=1.14 in c:\\users\\hoosp\\anaconda3\\lib\\site-packages (from trio~=0.17->selenium) (1.15.0)\n",
      "Requirement already satisfied: outcome in c:\\users\\hoosp\\anaconda3\\lib\\site-packages (from trio~=0.17->selenium) (1.3.0.post0)\n",
      "Requirement already satisfied: attrs>=23.2.0 in c:\\users\\hoosp\\anaconda3\\lib\\site-packages (from trio~=0.17->selenium) (24.2.0)\n",
      "Requirement already satisfied: sortedcontainers in c:\\users\\hoosp\\anaconda3\\lib\\site-packages (from trio~=0.17->selenium) (2.4.0)\n",
      "Requirement already satisfied: pycparser in c:\\users\\hoosp\\anaconda3\\lib\\site-packages (from cffi>=1.14->trio~=0.17->selenium) (2.21)\n",
      "Requirement already satisfied: wsproto>=0.14 in c:\\users\\hoosp\\anaconda3\\lib\\site-packages (from trio-websocket~=0.9->selenium) (1.2.0)\n",
      "Requirement already satisfied: PySocks!=1.5.7,<2.0,>=1.5.6 in c:\\users\\hoosp\\anaconda3\\lib\\site-packages (from urllib3[socks]<3,>=1.26->selenium) (1.7.1)\n",
      "Requirement already satisfied: h11<1,>=0.9.0 in c:\\users\\hoosp\\anaconda3\\lib\\site-packages (from wsproto>=0.14->trio-websocket~=0.9->selenium) (0.14.0)\n",
      "Note: you may need to restart the kernel to use updated packages.\n"
     ]
    }
   ],
   "source": [
    "pip install selenium"
   ]
  },
  {
   "cell_type": "code",
   "execution_count": 36,
   "metadata": {},
   "outputs": [
    {
     "name": "stdout",
     "output_type": "stream",
     "text": [
      "{'data': [{'shop_name': '쿠팡'}, {'date': '2024. 9. 21'}, {'items': [{'name': '티아시아키친 스파이시 비프 마살라 커리, 170g, 8개'}, {'quantity': '티아시아키친 스파이시 비프 마살라 커리, 170g, 8개'}, {'price': ['티아시아키친 스파이시 비프 마살라 커리, 170g, 8개', '티아시아키친 치킨 마크니 커리 전자레인지용, 170g, 8개']}, {'name': '티아시아키친 치킨 마크니 커리 전자레인지용, 170g, 8개'}, {'quantity': '티아시아키친 치킨 마크니 커리 전자레인지용, 170g, 8개'}, {'price': ['티아시아키친 스파이시 비프 마살라 커리, 170g, 8개', '티아시아키친 치킨 마크니 커리 전자레인지용, 170g, 8개']}]}]}\n",
      "{'data': [{'shop_name': '쿠팡'}, {'date': '2024. 8. 16'}, {'items': [{'name': 'QCY Melobuds Pro HT08 ANC 노이즈 캔슬링 멜로버즈 프로 무선 블루투스 이어폰 앱연동, HT08 블랙'}, {'quantity': 'QCY Melobuds Pro HT08 ANC 노이즈 캔슬링 멜로버즈 프로 무선 블루투스 이어폰 앱연동, HT08 블랙'}, {'price': ['QCY Melobuds Pro HT08 ANC 노이즈 캔슬링 멜로버즈 프로 무선 블루투스 이어폰 앱연동, HT08 블랙']}]}]}\n",
      "{'data': [{'shop_name': '쿠팡'}, {'date': '2024. 8. 6'}, {'items': [{'name': '라보에이치 두피강화 클리닉 탈모증상완화 샴푸, 400ml, 1개'}, {'quantity': '라보에이치 두피강화 클리닉 탈모증상완화 샴푸, 400ml, 1개'}, {'price': ['라보에이치 두피강화 클리닉 탈모증상완화 샴푸, 400ml, 1개']}]}]}\n",
      "{'data': [{'shop_name': '쿠팡'}, {'date': '2024. 7. 20'}, {'items': [{'name': '사조 살코기 참치, 150g, 12개'}, {'quantity': '사조 살코기 참치, 150g, 12개'}, {'price': ['사조 살코기 참치, 150g, 12개', '맛있는 오뚜기밥 발아현미, 210g, 18개']}, {'name': '맛있는 오뚜기밥 발아현미, 210g, 18개'}, {'quantity': '맛있는 오뚜기밥 발아현미, 210g, 18개'}, {'price': ['사조 살코기 참치, 150g, 12개', '맛있는 오뚜기밥 발아현미, 210g, 18개']}]}]}\n",
      "{'data': [{'shop_name': '쿠팡'}, {'date': '2024. 6. 17'}, {'items': [{'name': '애슐리 볶음밥 12인분 세트 ( 케이준 4+통 새우 4+ 갈릭 스테이크 4) 3종 콜렉션 구성, 1세트, 제품별 상이'}, {'quantity': '애슐리 볶음밥 12인분 세트 ( 케이준 4+통 새우 4+ 갈릭 스테이크 4) 3종 콜렉션 구성, 1세트, 제품별 상이'}, {'price': ['애슐리 볶음밥 12인분 세트 ( 케이준 4+통 새우 4+ 갈릭 스테이크 4) 3종 콜렉션 구성, 1세트, 제품별 상이']}]}]}\n"
     ]
    }
   ],
   "source": [
    "import time\n",
    "from selenium import webdriver\n",
    "from selenium.webdriver.common.by import By\n",
    "from selenium.webdriver.support.ui import WebDriverWait\n",
    "from selenium.webdriver.support import expected_conditions as EC\n",
    "import subprocess\n",
    "\n",
    "# 크롬 실행 파일 위치\n",
    "subprocess.Popen(r'C:\\Program Files\\Google\\Chrome\\Application\\chrome.exe --remote-debugging-port=9222') # 맥에선 주석처리\n",
    "options = webdriver.ChromeOptions()\n",
    "options.add_experimental_option(\"debuggerAddress\", \"127.0.0.1:9222\") # 맥에선 주석처리\n",
    "driver = webdriver.Chrome(options=options)\n",
    "\n",
    "\n",
    "# 로그인 웹사이트 주소\n",
    "driver.get('https://login.coupang.com/login/login.pang?')\n",
    "driver.implicitly_wait(3)\n",
    "\n",
    "try:\n",
    "    # 로그인\n",
    "    username_input = driver.find_element(By.ID, 'login-email-input')\n",
    "    password_input = driver.find_element(By.ID, 'login-password-input')\n",
    "\n",
    "    username_input.send_keys(\"your_email\") # your_email\n",
    "    password_input.send_keys(\"your_password\") # your_password\n",
    "    username_input.submit()\n",
    "    time.sleep(3)\n",
    "\n",
    "# 로그인 되어있을 경우 바로 크롤링\n",
    "finally:\n",
    "    # 주문목록 웹사이트 주소\n",
    "    driver.get(\"https://mc.coupang.com/ssr/desktop/order/list\")\n",
    "    driver.implicitly_wait(3)\n",
    "\n",
    "# 크롤링\n",
    "# \"주문상세보기\" aria-hidden으로 접근 불가\n",
    "result = []\n",
    "div = WebDriverWait(driver, 10).until(EC.presence_of_all_elements_located((By.CLASS_NAME, \"sc-fimazj-0\")))\n",
    "for d in div:\n",
    "    data = [{\"shop_name\" : \"쿠팡\"}]\n",
    "    \n",
    "    # 날짜 추출\n",
    "    date = d.find_element(By.CLASS_NAME, \"sc-abukv2-1\").text[:-3] # \"주문\" 글자 제외\n",
    "    data.append({\"date\" : date})\n",
    "\n",
    "    items = []\n",
    "\n",
    "    # 상품 이름 추출\n",
    "    product = []\n",
    "    inner_div = d.find_elements(By.CLASS_NAME, \"sc-755zt3-1\")\n",
    "    for i in inner_div:\n",
    "        product.append(i.text)\n",
    "   \n",
    "    # 상품 수량 추출\n",
    "    quantity = []\n",
    "    inner_div = d.find_elements(By.CLASS_NAME, \"sc-755zt3-1\")\n",
    "    for i in inner_div:\n",
    "        quantity.append(i.text)\n",
    "\n",
    "    # 상품 가격 추출\n",
    "    price = []\n",
    "    inner_div = d.find_elements(By.CLASS_NAME, \"sc-755zt3-1\")\n",
    "    for i in inner_div:\n",
    "        price.append(i.text)\n",
    "   \n",
    "    for x, y, z in zip(product, quantity, price):\n",
    "        items.append({\"name\" : x})\n",
    "        items.append({\"quantity\" : y})\n",
    "        items.append({\"price\" : price})\n",
    "    data.append({\"items\" : items})\n",
    "    result.append({\"data\" : data})    \n",
    "for _ in result:\n",
    "    print(_)\n",
    "\n",
    "# Chromedriver 종료\n",
    "driver.quit()"
   ]
  },
  {
   "cell_type": "markdown",
   "metadata": {},
   "source": [
    "<h3>2. 크롤링한 정보 저장 DB 설계</h3>\n",
    "\n",
    "        크롤링한 상품 상세 정보는 정보간 관계를 분석하기 보단 key, value 쌍의 정보 확인 용도로 DB를 구성하는 게 적합하므로 대표적인 NoSQL DB인 MongoDB가 적합합니다."
   ]
  },
  {
   "cell_type": "code",
   "execution_count": 23,
   "metadata": {},
   "outputs": [
    {
     "name": "stdout",
     "output_type": "stream",
     "text": [
      "Requirement already satisfied: pymongo[srv] in c:\\users\\hoosp\\anaconda3\\lib\\site-packages (4.9.1)\n",
      "Requirement already satisfied: dnspython<3.0.0,>=1.16.0 in c:\\users\\hoosp\\anaconda3\\lib\\site-packages (from pymongo[srv]) (2.6.1)\n",
      "Note: you may need to restart the kernel to use updated packages.\n"
     ]
    },
    {
     "name": "stderr",
     "output_type": "stream",
     "text": [
      "WARNING: pymongo 4.9.1 does not provide the extra 'srv'\n"
     ]
    }
   ],
   "source": [
    "pip install pymongo"
   ]
  },
  {
   "cell_type": "code",
   "execution_count": 42,
   "metadata": {},
   "outputs": [],
   "source": [
    "import pymongo\n",
    "  \n",
    "uri = \"<your mongodb driver>\"\n",
    "\n",
    "client = MongoClient(uri, server_api=ServerApi('1'))\n",
    "mydb = client['Coupang']\n",
    "mycol = mydb['Crawling']\n",
    "\n",
    "# mycol.delete_many({})\n",
    "\n",
    "for r in result:\n",
    "    x =  mycol.insert_one({\"Result\" : r})"
   ]
  },
  {
   "cell_type": "code",
   "execution_count": null,
   "metadata": {},
   "outputs": [],
   "source": [
    "# 상품 상세 페이지에서 다음과 같은 정보도 추출 가능\n",
    "# driver.get(find_elements(By.CLASS_NAME, sc-1uwk3m0-0).get_attribute('href')) # 상품 상세 페이지 주소\n",
    "\n",
    "# 상품 무게 당 가격\n",
    "# find_elements(By.CLASS_NAME, \"sc-755zt3-1\")\n",
    "\n",
    "# 상품 별점\n",
    "# find_elements(By.CLASS_NAME, \"sdp-review__average__total-star__info-orange\")\n",
    "\n",
    "# 상품 리뷰 수\n",
    "# find_elements(By.CLASS_NAME, sdp-review__average__total-star__info-count)\n",
    "\n",
    "# 판매자 정보\n",
    "# find_elements(By.CLASS_NAME, prod-sale-vendor-name)"
   ]
  },
  {
   "cell_type": "markdown",
   "metadata": {},
   "source": [
    "<h3>3. 고객정보와 상품정보의 연관 분석</h3>\n",
    "\n",
    "        고객의 구매시간, 성별, 연령을 조사하여 동일한 성격의 그룹과 비슷한 품목을 구입하는 지 분석하여 비슷하다면 해당 상품들을 추천할 수 있습니다. 마케팅정보수신에 동의한 경우 마케팅 알림이 온 물건을 구매했는 지를 분석해 마케팅 빈도 및 마케팅 대상 상품을 조절할 수 있습니다."
   ]
  },
  {
   "cell_type": "markdown",
   "metadata": {},
   "source": [
    "<h3>4. F&B 상품과 비 F&B 상품 구분</h3>\n",
    "\n",
    "        F&B 상품은 무게 당 가격(100g당 가격 등)이 제시되어 있어 이를 통해 비 F&B 상품과 구분가능합니다. 코드로 분석 시 비 F&B 상품 페이지에서는 \"sc-755zt3-1\" 값을 가진 클래스를 찾을 수 없습니다."
   ]
  }
 ],
 "metadata": {
  "kernelspec": {
   "display_name": "base",
   "language": "python",
   "name": "python3"
  },
  "language_info": {
   "codemirror_mode": {
    "name": "ipython",
    "version": 3
   },
   "file_extension": ".py",
   "mimetype": "text/x-python",
   "name": "python",
   "nbconvert_exporter": "python",
   "pygments_lexer": "ipython3",
   "version": "3.9.12"
  }
 },
 "nbformat": 4,
 "nbformat_minor": 2
}
